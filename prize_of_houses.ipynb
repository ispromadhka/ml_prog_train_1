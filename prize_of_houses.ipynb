{
 "cells": [
  {
   "cell_type": "code",
   "execution_count": null,
   "metadata": {},
   "outputs": [],
   "source": [
    "%pip install numpy\n",
    "%pip install scikit-learn\n",
    "%pip install customtkinter"
   ]
  },
  {
   "cell_type": "code",
   "execution_count": 13,
   "metadata": {
    "editable": true,
    "slideshow": {
     "slide_type": ""
    },
    "tags": [],
    "ExecuteTime": {
     "end_time": "2024-03-09T18:30:17.783212Z",
     "start_time": "2024-03-09T18:30:11.100177Z"
    }
   },
   "outputs": [],
   "source": [
    "import tkinter as tk\n",
    "import customtkinter as ctk\n",
    "\n",
    "class App(ctk.CTk):\n",
    "    def __init__(self):\n",
    "        super().__init__()\n",
    "        self.geometry(\"400x400\")\n",
    "        self.title('game')\n",
    "        self.current_player = 'X'\n",
    "        self.buttons = [[None for _ in range(3)] for _ in range(3)]\n",
    "        self.initialize_board()\n",
    "        ctk.set_appearance_mode(\"dark\")\n",
    "        self.bind(\"<KeyPress>\", self.death)\n",
    "\n",
    "    def initialize_board(self):\n",
    "        for i in range(3):\n",
    "            for j in range(3):\n",
    "                button = ctk.CTkButton(self, text='', font=('mono', 24), width=120, height=120,\n",
    "                                       corner_radius=10,\n",
    "                                       fg_color=\"#121212\",\n",
    "                                       command=lambda i=i, j=j: self.on_button_click(i, j))\n",
    "                button.grid(row=i, column=j, padx=5, pady=5)\n",
    "                self.buttons[i][j] = button\n",
    "\n",
    "    def on_button_click(self, i, j):\n",
    "        if self.buttons[i][j].cget(\"text\") == '' and self.current_player:\n",
    "            symbol = 'X' if self.current_player == 'X' else 'O'\n",
    "            self.buttons[i][j].configure(text=symbol, state=\"disabled\")\n",
    "            self.current_player = 'O' if self.current_player == 'X' else 'X'\n",
    "\n",
    "    def get_total_clicks(self):\n",
    "        clicks = 0\n",
    "        for row in self.buttons:\n",
    "            for button in row:\n",
    "                if button.cget(\"text\") != '':\n",
    "                    clicks += 1\n",
    "        return clicks\n",
    "    def win(self):\n",
    "        pass\n",
    "    def lose(self):\n",
    "        pass\n",
    "\n",
    "    def death(self, event):\n",
    "        if event.char == \"q\"  or event.char == \"й\":\n",
    "            self.destroy()\n",
    "\n",
    "if __name__ == \"__main__\":\n",
    "    app = App()\n",
    "    app.mainloop()\n"
   ]
  }
 ],
 "metadata": {
  "kernelspec": {
   "display_name": "Python 3 (ipykernel)",
   "language": "python",
   "name": "python3"
  },
  "language_info": {
   "codemirror_mode": {
    "name": "ipython",
    "version": 3
   },
   "file_extension": ".py",
   "mimetype": "text/x-python",
   "name": "python",
   "nbconvert_exporter": "python",
   "pygments_lexer": "ipython3",
   "version": "3.11.7"
  }
 },
 "nbformat": 4,
 "nbformat_minor": 4
}
