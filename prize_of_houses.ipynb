{
 "cells": [
  {
   "cell_type": "code",
   "execution_count": null,
   "metadata": {},
   "outputs": [],
   "source": [
    "# %pip install numpy\n",
    "# %pip install scikit-learn\n",
    "# %pip install customtkinter"
   ]
  },
  {
   "cell_type": "code",
   "execution_count": null,
   "metadata": {},
   "outputs": [],
   "source": [
    "import customtkinter as ctk\n",
    "\n",
    "class App(ctk.CTk):\n",
    "    def __init__(self):\n",
    "        super().__init__()\n",
    "        self.geometry(\"400x400\")\n",
    "        self.title('game')\n",
    "        self.current_player = 'X'\n",
    "        self.buttons = [[None for _ in range(3)] for _ in range(3)]\n",
    "        self.initialize_board()\n",
    "\n",
    "    def initialize_board(self):\n",
    "        for i in range(3):\n",
    "            for j in range(3):\n",
    "                button = ctk.CTkButton(self, text='', font=('mono', 24), width=120, height=120,\n",
    "                                       corner_radius=10,\n",
    "                                       command=lambda i=i, j=j: self.on_button_click(i, j))\n",
    "                button.grid(row=i, column=j, padx=5, pady=5)\n",
    "                self.buttons[i][j] = button\n",
    "\n",
    "    def on_button_click(self, i, j):\n",
    "        if self.buttons[i][j]['text'] == '' and self.current_player:\n",
    "            self.buttons[i][j].configure(text=self.current_player)\n",
    "            self.current_player = 'O' if self.current_player == 'X' else 'X'\n",
    "\n",
    "\n",
    "app = App()\n",
    "app.mainloop()\n"
   ]
  },
  {
   "cell_type": "code",
   "execution_count": 6,
   "metadata": {},
   "outputs": [
    {
     "name": "stdout",
     "output_type": "stream",
     "text": [
      " | | \n",
      "-+-+-\n",
      " | | \n",
      "-+-+-\n",
      " | | \n"
     ]
    }
   ],
   "source": [
    "def print_board(board):\n",
    "    for i in range(3):\n",
    "        if i > 0:\n",
    "            print(\"-+-+-\")\n",
    "        for j in range(3):\n",
    "            if j > 0:\n",
    "                print(\"|\", end='')\n",
    "            print(board[i][j], end='')\n",
    "        print()\n",
    "\n",
    "board = [[' ' for _ in range(3)] for _ in range(3)]\n",
    "print_board(board)\n"
   ]
  }
 ],
 "metadata": {
  "kernelspec": {
   "display_name": "Python 3",
   "language": "python",
   "name": "python3"
  },
  "language_info": {
   "codemirror_mode": {
    "name": "ipython",
    "version": 3
   },
   "file_extension": ".py",
   "mimetype": "text/x-python",
   "name": "python",
   "nbconvert_exporter": "python",
   "pygments_lexer": "ipython3",
   "version": "3.11.4"
  },
  "orig_nbformat": 4
 },
 "nbformat": 4,
 "nbformat_minor": 2
}
